{
  "nbformat": 4,
  "nbformat_minor": 0,
  "metadata": {
    "colab": {
      "name": "Bangkit Product Based Capstone.ipynb",
      "provenance": [],
      "collapsed_sections": []
    },
    "kernelspec": {
      "name": "python3",
      "display_name": "Python 3"
    },
    "language_info": {
      "name": "python"
    },
    "accelerator": "GPU"
  },
  "cells": [
    {
      "cell_type": "markdown",
      "source": [
        "# Preprocessing and Trining Model"
      ],
      "metadata": {
        "id": "_EOaNLyKyBhW"
      }
    },
    {
      "cell_type": "code",
      "source": [
        "import tensorflow as tf\n",
        "import os"
      ],
      "metadata": {
        "id": "8w5pC-WPX8R8"
      },
      "execution_count": 1,
      "outputs": []
    },
    {
      "cell_type": "code",
      "source": [
        "!pip install -q kaggle"
      ],
      "metadata": {
        "id": "VMHFmcJoYHj_"
      },
      "execution_count": 2,
      "outputs": []
    },
    {
      "cell_type": "code",
      "source": [
        "# Upload Kaggle API\n",
        "from google.colab import files\n",
        "files.upload()"
      ],
      "metadata": {
        "colab": {
          "resources": {
            "http://localhost:8080/nbextensions/google.colab/files.js": {
              "data": "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",
              "ok": true,
              "headers": [
                [
                  "content-type",
                  "application/javascript"
                ]
              ],
              "status": 200,
              "status_text": ""
            }
          },
          "base_uri": "https://localhost:8080/",
          "height": 90
        },
        "id": "A6fFT92MYPc4",
        "outputId": "c618f60b-3e53-45e7-da5b-e9d9045b5395"
      },
      "execution_count": 3,
      "outputs": [
        {
          "output_type": "display_data",
          "data": {
            "text/plain": [
              "<IPython.core.display.HTML object>"
            ],
            "text/html": [
              "\n",
              "     <input type=\"file\" id=\"files-4ab8b055-327b-4227-9f76-121c424a38f1\" name=\"files[]\" multiple disabled\n",
              "        style=\"border:none\" />\n",
              "     <output id=\"result-4ab8b055-327b-4227-9f76-121c424a38f1\">\n",
              "      Upload widget is only available when the cell has been executed in the\n",
              "      current browser session. Please rerun this cell to enable.\n",
              "      </output>\n",
              "      <script src=\"/nbextensions/google.colab/files.js\"></script> "
            ]
          },
          "metadata": {}
        },
        {
          "output_type": "stream",
          "name": "stdout",
          "text": [
            "Saving kaggle.json to kaggle.json\n"
          ]
        },
        {
          "output_type": "execute_result",
          "data": {
            "text/plain": [
              "{'kaggle.json': b'{\"username\":\"najibullohasror\",\"key\":\"7b1c0480d911c3aa453e581eff98e4c6\"}'}"
            ]
          },
          "metadata": {},
          "execution_count": 3
        }
      ]
    },
    {
      "cell_type": "code",
      "source": [
        "! mkdir ~/.kaggle\n",
        "! cp kaggle.json ~/.kaggle/\n",
        "! chmod 600 ~/.kaggle/kaggle.json"
      ],
      "metadata": {
        "id": "QUfFM0-7YlLT"
      },
      "execution_count": 4,
      "outputs": []
    },
    {
      "cell_type": "code",
      "source": [
        "! kaggle datasets download -d najibullohasror/hitani-dataset"
      ],
      "metadata": {
        "id": "8BddI0_IYrPc",
        "colab": {
          "base_uri": "https://localhost:8080/"
        },
        "outputId": "d0ce23a9-ea19-4bbf-a2e1-d5555784b992"
      },
      "execution_count": 5,
      "outputs": [
        {
          "output_type": "stream",
          "name": "stdout",
          "text": [
            "Downloading hitani-dataset.zip to /content\n",
            "100% 7.53G/7.56G [01:05<00:00, 125MB/s]\n",
            "100% 7.56G/7.56G [01:05<00:00, 124MB/s]\n"
          ]
        }
      ]
    },
    {
      "cell_type": "code",
      "source": [
        "import os \n",
        "import zipfile\n",
        "\n",
        "local_zip = '/content/hitani-dataset.zip'\n",
        "zip_ref = zipfile.ZipFile(local_zip, 'r')\n",
        "zip_ref.extractall('/content/')\n",
        "zip_ref.close()"
      ],
      "metadata": {
        "id": "QghY-NSNZGlG"
      },
      "execution_count": 6,
      "outputs": []
    },
    {
      "cell_type": "code",
      "source": [
        "import numpy as np\n",
        "import pickle\n",
        "import cv2\n",
        "from os import listdir\n",
        "from tensorflow import keras\n",
        "from sklearn.preprocessing import LabelBinarizer\n",
        "from keras.models import Sequential\n",
        "from keras.layers import BatchNormalization\n",
        "from keras.layers.convolutional import Conv2D\n",
        "from keras.layers.convolutional import MaxPooling2D\n",
        "from keras.layers.core import Activation, Flatten, Dropout, Dense\n",
        "from keras import backend as K\n",
        "from keras.preprocessing.image import ImageDataGenerator\n",
        "from tensorflow.keras.optimizers import Adam\n",
        "from keras.preprocessing import image\n",
        "from keras.preprocessing.image import img_to_array\n",
        "from sklearn.preprocessing import MultiLabelBinarizer\n",
        "from sklearn.model_selection import train_test_split\n",
        "import matplotlib.pyplot as plt"
      ],
      "metadata": {
        "id": "UknNP1A5aQWz"
      },
      "execution_count": 7,
      "outputs": []
    },
    {
      "cell_type": "code",
      "source": [
        "EPOCHS = 50\n",
        "INIT_LR = 1e-3\n",
        "BS = 32\n",
        "default_image_size = tuple((100,100))\n",
        "image_size = 0\n",
        "directory_root = '/content/CornLeafDiseases'\n",
        "width=100\n",
        "height=100\n",
        "depth=3"
      ],
      "metadata": {
        "id": "dvQEHDLAZ916"
      },
      "execution_count": 8,
      "outputs": []
    },
    {
      "cell_type": "code",
      "source": [
        "# Function to convert images to array\n",
        "def convert_image_to_array(image_dir):\n",
        "    try:\n",
        "        image = cv2.imread(image_dir)\n",
        "        if image is not None :\n",
        "            image = cv2.resize(image, default_image_size)   \n",
        "            return img_to_array(image)\n",
        "        else :\n",
        "            return np.array([])\n",
        "    except Exception as e:\n",
        "        print(f\"Error : {e}\")\n",
        "        return None"
      ],
      "metadata": {
        "id": "DCMWAgmDbwiB"
      },
      "execution_count": 9,
      "outputs": []
    },
    {
      "cell_type": "code",
      "source": [
        "# Fetch images from directory\n",
        "image_list, label_list = [], []\n",
        "try:\n",
        "    print(\"[INFO] Loading images ...\")\n",
        "    root_dir = listdir(directory_root)\n",
        "    for directory in root_dir :\n",
        "        # remove .Hi_Tani from list\n",
        "        if directory == \".Hi_Tani\" :\n",
        "            root_dir.remove(directory)\n",
        "\n",
        "    for plant_folder in root_dir :\n",
        "        plant_disease_folder_list = listdir(f\"{directory_root}/{plant_folder}\")\n",
        "        \n",
        "        for disease_folder in plant_disease_folder_list :\n",
        "            # remove .Hi_Tani from list\n",
        "            if disease_folder == \".Hi_Tani\" :\n",
        "                plant_disease_folder_list.remove(disease_folder)\n",
        "\n",
        "        for plant_disease_folder in plant_disease_folder_list:\n",
        "            print(f\"[INFO] Processing {plant_disease_folder} ...\")\n",
        "            plant_disease_image_list = listdir(f\"{directory_root}/{plant_folder}/{plant_disease_folder}/\")\n",
        "                \n",
        "            for single_plant_disease_image in plant_disease_image_list :\n",
        "                if single_plant_disease_image == \".Hi_Tani\" :\n",
        "                    plant_disease_image_list.remove(single_plant_disease_image)\n",
        "\n",
        "            for image in plant_disease_image_list[:250]:\n",
        "                image_directory = f\"{directory_root}/{plant_folder}/{plant_disease_folder}/{image}\"\n",
        "                if image_directory.endswith(\".jpg\") == True or image_directory.endswith(\".JPG\") == True:\n",
        "                    image_list.append(convert_image_to_array(image_directory))\n",
        "                    label_list.append(plant_disease_folder)\n",
        "    print(\"[INFO] Image loading completed\")  \n",
        "except Exception as e: \n",
        "    print(f\"Error : {e}\")"
      ],
      "metadata": {
        "colab": {
          "base_uri": "https://localhost:8080/"
        },
        "id": "IzgA5G0Zbzko",
        "outputId": "625e2508-6d11-4ebf-c8ec-b473314d920e"
      },
      "execution_count": 10,
      "outputs": [
        {
          "output_type": "stream",
          "name": "stdout",
          "text": [
            "[INFO] Loading images ...\n",
            "[INFO] Processing Corn_(maize)___Northern_Leaf_Blight ...\n",
            "[INFO] Processing Corn_(maize)___Cercospora_leaf_spot Gray_leaf_spot ...\n",
            "[INFO] Processing Corn_(maize)___Common_rust_ ...\n",
            "[INFO] Processing Corn_(maize)___healthy ...\n",
            "[INFO] Image loading completed\n"
          ]
        }
      ]
    },
    {
      "cell_type": "code",
      "source": [
        "# Get Size of Processed Image\n",
        "image_size = len(image_list)"
      ],
      "metadata": {
        "id": "9CGDWR4kca7n"
      },
      "execution_count": 13,
      "outputs": []
    },
    {
      "cell_type": "code",
      "source": [
        "# Transform Image Labels uisng Scikit Learn's LabelBinarizer\n",
        "label_binarizer = LabelBinarizer()\n",
        "image_labels = label_binarizer.fit_transform(label_list)\n",
        "pickle.dump(label_binarizer,open('label_transform.pkl', 'wb'))\n",
        "n_classes = len(label_binarizer.classes_)"
      ],
      "metadata": {
        "id": "Cnp08_tmcocX"
      },
      "execution_count": 14,
      "outputs": []
    },
    {
      "cell_type": "code",
      "source": [
        "# Print the classes\n",
        "print(label_binarizer.classes_)"
      ],
      "metadata": {
        "colab": {
          "base_uri": "https://localhost:8080/"
        },
        "id": "4WKYmUCtc2wr",
        "outputId": "cc2e32d0-8ef4-4347-e722-4dafa93039b7"
      },
      "execution_count": 15,
      "outputs": [
        {
          "output_type": "stream",
          "name": "stdout",
          "text": [
            "['Corn_(maize)___Cercospora_leaf_spot Gray_leaf_spot'\n",
            " 'Corn_(maize)___Common_rust_' 'Corn_(maize)___Northern_Leaf_Blight'\n",
            " 'Corn_(maize)___healthy']\n"
          ]
        }
      ]
    },
    {
      "cell_type": "code",
      "source": [
        "np_image_list = np.array(image_list, dtype=np.float16) / 225.0"
      ],
      "metadata": {
        "id": "TBLFUi33c4vJ"
      },
      "execution_count": 16,
      "outputs": []
    },
    {
      "cell_type": "code",
      "source": [
        "print(\"[INFO] Spliting data to train, test\")\n",
        "x_train, x_test, y_train, y_test = train_test_split(np_image_list, image_labels, test_size=0.2, random_state = 42) "
      ],
      "metadata": {
        "colab": {
          "base_uri": "https://localhost:8080/"
        },
        "id": "WwMx0ZYXc-kW",
        "outputId": "d1bc5dc7-f458-48fd-e86d-46df09bb9137"
      },
      "execution_count": 17,
      "outputs": [
        {
          "output_type": "stream",
          "name": "stdout",
          "text": [
            "[INFO] Spliting data to train, test\n"
          ]
        }
      ]
    },
    {
      "cell_type": "code",
      "source": [
        "aug = ImageDataGenerator(\n",
        "    rotation_range=25, width_shift_range=0.1,\n",
        "    height_shift_range=0.1, shear_range=0.2, \n",
        "    zoom_range=0.2,horizontal_flip=True, \n",
        "    fill_mode=\"nearest\")"
      ],
      "metadata": {
        "id": "4QcYwhR_dCBq"
      },
      "execution_count": 18,
      "outputs": []
    },
    {
      "cell_type": "code",
      "source": [
        "# Build Model Stucture \n",
        "model = Sequential()\n",
        "inputShape = (height, width, depth)\n",
        "chanDim = -1\n",
        "if K.image_data_format() == \"channels_first\":\n",
        "    inputShape = (depth, height, width)\n",
        "    chanDim = 1\n",
        "model.add(Conv2D(32, (3, 3), padding=\"same\",input_shape=inputShape))\n",
        "model.add(Activation(\"relu\"))\n",
        "model.add(BatchNormalization(axis=chanDim))\n",
        "model.add(MaxPooling2D(pool_size=(3, 3)))\n",
        "model.add(Dropout(0.25))\n",
        "model.add(Conv2D(64, (3, 3), padding=\"same\"))\n",
        "model.add(Activation(\"relu\"))\n",
        "model.add(BatchNormalization(axis=chanDim))\n",
        "model.add(Conv2D(64, (3, 3), padding=\"same\"))\n",
        "model.add(Activation(\"relu\"))\n",
        "model.add(BatchNormalization(axis=chanDim))\n",
        "model.add(Conv2D(64, (3, 3), padding=\"same\"))\n",
        "model.add(Activation(\"relu\"))\n",
        "model.add(BatchNormalization(axis=chanDim))\n",
        "model.add(MaxPooling2D(pool_size=(2, 2)))\n",
        "model.add(Dropout(0.25))\n",
        "model.add(Conv2D(128, (3, 3), padding=\"same\"))\n",
        "model.add(Activation(\"relu\"))\n",
        "model.add(BatchNormalization(axis=chanDim))\n",
        "model.add(Conv2D(128, (3, 3), padding=\"same\"))\n",
        "model.add(Activation(\"relu\"))\n",
        "model.add(BatchNormalization(axis=chanDim))\n",
        "model.add(MaxPooling2D(pool_size=(2, 2)))\n",
        "model.add(Dropout(0.25))\n",
        "model.add(Flatten())\n",
        "model.add(Dense(1024))\n",
        "model.add(Activation(\"relu\"))\n",
        "model.add(BatchNormalization())\n",
        "model.add(Dropout(0.5))\n",
        "model.add(Dense(n_classes))\n",
        "model.add(Activation(\"softmax\"))\n",
        "\n",
        "# Model Summary\n",
        "model.summary()"
      ],
      "metadata": {
        "colab": {
          "base_uri": "https://localhost:8080/"
        },
        "id": "Da99zERtdFQG",
        "outputId": "74c5bc5f-0a32-4b04-ad55-facbf5b1e448"
      },
      "execution_count": 19,
      "outputs": [
        {
          "output_type": "stream",
          "name": "stdout",
          "text": [
            "Model: \"sequential\"\n",
            "_________________________________________________________________\n",
            " Layer (type)                Output Shape              Param #   \n",
            "=================================================================\n",
            " conv2d (Conv2D)             (None, 100, 100, 32)      896       \n",
            "                                                                 \n",
            " activation (Activation)     (None, 100, 100, 32)      0         \n",
            "                                                                 \n",
            " batch_normalization (BatchN  (None, 100, 100, 32)     128       \n",
            " ormalization)                                                   \n",
            "                                                                 \n",
            " max_pooling2d (MaxPooling2D  (None, 33, 33, 32)       0         \n",
            " )                                                               \n",
            "                                                                 \n",
            " dropout (Dropout)           (None, 33, 33, 32)        0         \n",
            "                                                                 \n",
            " conv2d_1 (Conv2D)           (None, 33, 33, 64)        18496     \n",
            "                                                                 \n",
            " activation_1 (Activation)   (None, 33, 33, 64)        0         \n",
            "                                                                 \n",
            " batch_normalization_1 (Batc  (None, 33, 33, 64)       256       \n",
            " hNormalization)                                                 \n",
            "                                                                 \n",
            " conv2d_2 (Conv2D)           (None, 33, 33, 64)        36928     \n",
            "                                                                 \n",
            " activation_2 (Activation)   (None, 33, 33, 64)        0         \n",
            "                                                                 \n",
            " batch_normalization_2 (Batc  (None, 33, 33, 64)       256       \n",
            " hNormalization)                                                 \n",
            "                                                                 \n",
            " conv2d_3 (Conv2D)           (None, 33, 33, 64)        36928     \n",
            "                                                                 \n",
            " activation_3 (Activation)   (None, 33, 33, 64)        0         \n",
            "                                                                 \n",
            " batch_normalization_3 (Batc  (None, 33, 33, 64)       256       \n",
            " hNormalization)                                                 \n",
            "                                                                 \n",
            " max_pooling2d_1 (MaxPooling  (None, 16, 16, 64)       0         \n",
            " 2D)                                                             \n",
            "                                                                 \n",
            " dropout_1 (Dropout)         (None, 16, 16, 64)        0         \n",
            "                                                                 \n",
            " conv2d_4 (Conv2D)           (None, 16, 16, 128)       73856     \n",
            "                                                                 \n",
            " activation_4 (Activation)   (None, 16, 16, 128)       0         \n",
            "                                                                 \n",
            " batch_normalization_4 (Batc  (None, 16, 16, 128)      512       \n",
            " hNormalization)                                                 \n",
            "                                                                 \n",
            " conv2d_5 (Conv2D)           (None, 16, 16, 128)       147584    \n",
            "                                                                 \n",
            " activation_5 (Activation)   (None, 16, 16, 128)       0         \n",
            "                                                                 \n",
            " batch_normalization_5 (Batc  (None, 16, 16, 128)      512       \n",
            " hNormalization)                                                 \n",
            "                                                                 \n",
            " max_pooling2d_2 (MaxPooling  (None, 8, 8, 128)        0         \n",
            " 2D)                                                             \n",
            "                                                                 \n",
            " dropout_2 (Dropout)         (None, 8, 8, 128)         0         \n",
            "                                                                 \n",
            " flatten (Flatten)           (None, 8192)              0         \n",
            "                                                                 \n",
            " dense (Dense)               (None, 1024)              8389632   \n",
            "                                                                 \n",
            " activation_6 (Activation)   (None, 1024)              0         \n",
            "                                                                 \n",
            " batch_normalization_6 (Batc  (None, 1024)             4096      \n",
            " hNormalization)                                                 \n",
            "                                                                 \n",
            " dropout_3 (Dropout)         (None, 1024)              0         \n",
            "                                                                 \n",
            " dense_1 (Dense)             (None, 4)                 4100      \n",
            "                                                                 \n",
            " activation_7 (Activation)   (None, 4)                 0         \n",
            "                                                                 \n",
            "=================================================================\n",
            "Total params: 8,714,436\n",
            "Trainable params: 8,711,428\n",
            "Non-trainable params: 3,008\n",
            "_________________________________________________________________\n"
          ]
        }
      ]
    },
    {
      "cell_type": "code",
      "source": [
        "#Compiling Model\n",
        "opt = Adam(learning_rate=INIT_LR, decay=INIT_LR / EPOCHS)\n",
        "# distribution\n",
        "model.compile(loss=\"binary_crossentropy\", optimizer=opt,metrics=[\"accuracy\"])\n",
        "# train the network\n",
        "print(\"[INFO] training network...\")"
      ],
      "metadata": {
        "colab": {
          "base_uri": "https://localhost:8080/"
        },
        "id": "ynrQ3pCqdKRs",
        "outputId": "18b8bd2b-cd2e-4cd9-a218-2844ddce800d"
      },
      "execution_count": 20,
      "outputs": [
        {
          "output_type": "stream",
          "name": "stdout",
          "text": [
            "[INFO] training network...\n"
          ]
        }
      ]
    },
    {
      "cell_type": "code",
      "source": [
        "#Fitting Model\n",
        "history = model.fit_generator(\n",
        "    aug.flow(x_train, y_train, batch_size=BS),\n",
        "    validation_data=(x_test, y_test),\n",
        "    steps_per_epoch=len(x_train) // BS,\n",
        "    epochs=EPOCHS, verbose=1\n",
        "    )"
      ],
      "metadata": {
        "id": "p4EAZYc2dQXY",
        "colab": {
          "base_uri": "https://localhost:8080/"
        },
        "outputId": "73c48478-0c2b-4e1d-9633-54cd1536423a"
      },
      "execution_count": 21,
      "outputs": [
        {
          "output_type": "stream",
          "name": "stderr",
          "text": [
            "/usr/local/lib/python3.7/dist-packages/ipykernel_launcher.py:6: UserWarning: `Model.fit_generator` is deprecated and will be removed in a future version. Please use `Model.fit`, which supports generators.\n",
            "  \n"
          ]
        },
        {
          "output_type": "stream",
          "name": "stdout",
          "text": [
            "Epoch 1/50\n",
            "25/25 [==============================] - 15s 100ms/step - loss: 0.5733 - accuracy: 0.7225 - val_loss: 0.6348 - val_accuracy: 0.3800\n",
            "Epoch 2/50\n",
            "25/25 [==============================] - 2s 79ms/step - loss: 0.2961 - accuracy: 0.8537 - val_loss: 0.7846 - val_accuracy: 0.3750\n",
            "Epoch 3/50\n",
            "25/25 [==============================] - 2s 80ms/step - loss: 0.2044 - accuracy: 0.8863 - val_loss: 1.0592 - val_accuracy: 0.2200\n",
            "Epoch 4/50\n",
            "25/25 [==============================] - 2s 81ms/step - loss: 0.1646 - accuracy: 0.9087 - val_loss: 0.8805 - val_accuracy: 0.3350\n",
            "Epoch 5/50\n",
            "25/25 [==============================] - 2s 81ms/step - loss: 0.1274 - accuracy: 0.9212 - val_loss: 1.0191 - val_accuracy: 0.2200\n",
            "Epoch 6/50\n",
            "25/25 [==============================] - 2s 81ms/step - loss: 0.1209 - accuracy: 0.9162 - val_loss: 0.8309 - val_accuracy: 0.2600\n",
            "Epoch 7/50\n",
            "25/25 [==============================] - 2s 82ms/step - loss: 0.1301 - accuracy: 0.9225 - val_loss: 0.8941 - val_accuracy: 0.3450\n",
            "Epoch 8/50\n",
            "25/25 [==============================] - 2s 81ms/step - loss: 0.1348 - accuracy: 0.9225 - val_loss: 1.5863 - val_accuracy: 0.2550\n",
            "Epoch 9/50\n",
            "25/25 [==============================] - 2s 81ms/step - loss: 0.1298 - accuracy: 0.9212 - val_loss: 0.9177 - val_accuracy: 0.4050\n",
            "Epoch 10/50\n",
            "25/25 [==============================] - 2s 81ms/step - loss: 0.1356 - accuracy: 0.9100 - val_loss: 0.7684 - val_accuracy: 0.4100\n",
            "Epoch 11/50\n",
            "25/25 [==============================] - 2s 82ms/step - loss: 0.1093 - accuracy: 0.9312 - val_loss: 1.2699 - val_accuracy: 0.2850\n",
            "Epoch 12/50\n",
            "25/25 [==============================] - 2s 81ms/step - loss: 0.1094 - accuracy: 0.9325 - val_loss: 0.6977 - val_accuracy: 0.5150\n",
            "Epoch 13/50\n",
            "25/25 [==============================] - 2s 81ms/step - loss: 0.0990 - accuracy: 0.9375 - val_loss: 1.2882 - val_accuracy: 0.4700\n",
            "Epoch 14/50\n",
            "25/25 [==============================] - 2s 82ms/step - loss: 0.0878 - accuracy: 0.9350 - val_loss: 1.6154 - val_accuracy: 0.4950\n",
            "Epoch 15/50\n",
            "25/25 [==============================] - 2s 81ms/step - loss: 0.0733 - accuracy: 0.9525 - val_loss: 1.1461 - val_accuracy: 0.4050\n",
            "Epoch 16/50\n",
            "25/25 [==============================] - 2s 83ms/step - loss: 0.0740 - accuracy: 0.9463 - val_loss: 0.3743 - val_accuracy: 0.7000\n",
            "Epoch 17/50\n",
            "25/25 [==============================] - 2s 82ms/step - loss: 0.0944 - accuracy: 0.9425 - val_loss: 0.3307 - val_accuracy: 0.7200\n",
            "Epoch 18/50\n",
            "25/25 [==============================] - 2s 81ms/step - loss: 0.0883 - accuracy: 0.9388 - val_loss: 0.3681 - val_accuracy: 0.7450\n",
            "Epoch 19/50\n",
            "25/25 [==============================] - 2s 82ms/step - loss: 0.0695 - accuracy: 0.9513 - val_loss: 0.4518 - val_accuracy: 0.7250\n",
            "Epoch 20/50\n",
            "25/25 [==============================] - 2s 82ms/step - loss: 0.0598 - accuracy: 0.9575 - val_loss: 0.4236 - val_accuracy: 0.7650\n",
            "Epoch 21/50\n",
            "25/25 [==============================] - 2s 81ms/step - loss: 0.0814 - accuracy: 0.9513 - val_loss: 0.5898 - val_accuracy: 0.7650\n",
            "Epoch 22/50\n",
            "25/25 [==============================] - 2s 84ms/step - loss: 0.0830 - accuracy: 0.9463 - val_loss: 1.1044 - val_accuracy: 0.6800\n",
            "Epoch 23/50\n",
            "25/25 [==============================] - 2s 80ms/step - loss: 0.0772 - accuracy: 0.9500 - val_loss: 0.2276 - val_accuracy: 0.8850\n",
            "Epoch 24/50\n",
            "25/25 [==============================] - 2s 80ms/step - loss: 0.0671 - accuracy: 0.9563 - val_loss: 0.2065 - val_accuracy: 0.8500\n",
            "Epoch 25/50\n",
            "25/25 [==============================] - 2s 82ms/step - loss: 0.0574 - accuracy: 0.9663 - val_loss: 0.1632 - val_accuracy: 0.8950\n",
            "Epoch 26/50\n",
            "25/25 [==============================] - 2s 83ms/step - loss: 0.0792 - accuracy: 0.9450 - val_loss: 0.1756 - val_accuracy: 0.8800\n",
            "Epoch 27/50\n",
            "25/25 [==============================] - 2s 81ms/step - loss: 0.0887 - accuracy: 0.9463 - val_loss: 0.1653 - val_accuracy: 0.9000\n",
            "Epoch 28/50\n",
            "25/25 [==============================] - 2s 82ms/step - loss: 0.0599 - accuracy: 0.9588 - val_loss: 1.0952 - val_accuracy: 0.6000\n",
            "Epoch 29/50\n",
            "25/25 [==============================] - 2s 81ms/step - loss: 0.0529 - accuracy: 0.9588 - val_loss: 0.3952 - val_accuracy: 0.8100\n",
            "Epoch 30/50\n",
            "25/25 [==============================] - 2s 81ms/step - loss: 0.0571 - accuracy: 0.9625 - val_loss: 2.4806 - val_accuracy: 0.3200\n",
            "Epoch 31/50\n",
            "25/25 [==============================] - 2s 81ms/step - loss: 0.0838 - accuracy: 0.9463 - val_loss: 1.4557 - val_accuracy: 0.4200\n",
            "Epoch 32/50\n",
            "25/25 [==============================] - 2s 81ms/step - loss: 0.0543 - accuracy: 0.9650 - val_loss: 0.1113 - val_accuracy: 0.9200\n",
            "Epoch 33/50\n",
            "25/25 [==============================] - 2s 80ms/step - loss: 0.0610 - accuracy: 0.9650 - val_loss: 0.7442 - val_accuracy: 0.7400\n",
            "Epoch 34/50\n",
            "25/25 [==============================] - 2s 82ms/step - loss: 0.0568 - accuracy: 0.9613 - val_loss: 0.1235 - val_accuracy: 0.9100\n",
            "Epoch 35/50\n",
            "25/25 [==============================] - 2s 82ms/step - loss: 0.0557 - accuracy: 0.9600 - val_loss: 0.4425 - val_accuracy: 0.7900\n",
            "Epoch 36/50\n",
            "25/25 [==============================] - 2s 83ms/step - loss: 0.0692 - accuracy: 0.9588 - val_loss: 0.1863 - val_accuracy: 0.9050\n",
            "Epoch 37/50\n",
            "25/25 [==============================] - 2s 82ms/step - loss: 0.0641 - accuracy: 0.9538 - val_loss: 0.4267 - val_accuracy: 0.7950\n",
            "Epoch 38/50\n",
            "25/25 [==============================] - 2s 82ms/step - loss: 0.0513 - accuracy: 0.9650 - val_loss: 0.3478 - val_accuracy: 0.8150\n",
            "Epoch 39/50\n",
            "25/25 [==============================] - 2s 82ms/step - loss: 0.0424 - accuracy: 0.9688 - val_loss: 0.3777 - val_accuracy: 0.8400\n",
            "Epoch 40/50\n",
            "25/25 [==============================] - 2s 82ms/step - loss: 0.0487 - accuracy: 0.9638 - val_loss: 0.1801 - val_accuracy: 0.9000\n",
            "Epoch 41/50\n",
            "25/25 [==============================] - 2s 82ms/step - loss: 0.0528 - accuracy: 0.9725 - val_loss: 0.2968 - val_accuracy: 0.8400\n",
            "Epoch 42/50\n",
            "25/25 [==============================] - 2s 82ms/step - loss: 0.0495 - accuracy: 0.9663 - val_loss: 0.1707 - val_accuracy: 0.9100\n",
            "Epoch 43/50\n",
            "25/25 [==============================] - 2s 82ms/step - loss: 0.0445 - accuracy: 0.9725 - val_loss: 1.2908 - val_accuracy: 0.5850\n",
            "Epoch 44/50\n",
            "25/25 [==============================] - 2s 81ms/step - loss: 0.0749 - accuracy: 0.9575 - val_loss: 0.4049 - val_accuracy: 0.8500\n",
            "Epoch 45/50\n",
            "25/25 [==============================] - 2s 82ms/step - loss: 0.0543 - accuracy: 0.9638 - val_loss: 0.0416 - val_accuracy: 0.9700\n",
            "Epoch 46/50\n",
            "25/25 [==============================] - 2s 82ms/step - loss: 0.0337 - accuracy: 0.9762 - val_loss: 0.3687 - val_accuracy: 0.8350\n",
            "Epoch 47/50\n",
            "25/25 [==============================] - 2s 82ms/step - loss: 0.0282 - accuracy: 0.9812 - val_loss: 0.0464 - val_accuracy: 0.9650\n",
            "Epoch 48/50\n",
            "25/25 [==============================] - 2s 81ms/step - loss: 0.0417 - accuracy: 0.9750 - val_loss: 0.3319 - val_accuracy: 0.8700\n",
            "Epoch 49/50\n",
            "25/25 [==============================] - 2s 81ms/step - loss: 0.0507 - accuracy: 0.9675 - val_loss: 0.0665 - val_accuracy: 0.9450\n",
            "Epoch 50/50\n",
            "25/25 [==============================] - 2s 81ms/step - loss: 0.0533 - accuracy: 0.9625 - val_loss: 0.0845 - val_accuracy: 0.9500\n"
          ]
        }
      ]
    },
    {
      "cell_type": "code",
      "source": [
        "# Model Accuracy\n",
        "print(\"[INFO] Calculating model accuracy\")\n",
        "scores = model.evaluate(x_test, y_test)\n",
        "print(f\"Test Accuracy: {scores[1]*100}\")"
      ],
      "metadata": {
        "id": "xpJ7dXAOdWve",
        "colab": {
          "base_uri": "https://localhost:8080/"
        },
        "outputId": "b9995a25-06c0-43a7-b2e1-8b25ff4f1e7a"
      },
      "execution_count": 22,
      "outputs": [
        {
          "output_type": "stream",
          "name": "stdout",
          "text": [
            "[INFO] Calculating model accuracy\n",
            "7/7 [==============================] - 0s 8ms/step - loss: 0.0845 - accuracy: 0.9500\n",
            "Test Accuracy: 94.9999988079071\n"
          ]
        }
      ]
    },
    {
      "cell_type": "code",
      "source": [
        "# Save the model using TensorFlow SavedModel format\n",
        "model.save('corn_disease_model.h5')"
      ],
      "metadata": {
        "id": "JTEGUm2jn2Mf"
      },
      "execution_count": 24,
      "outputs": []
    },
    {
      "cell_type": "code",
      "source": [
        "model2 = tf.keras.models.load_model('/content/corn_disease_model.h5', compile=False)"
      ],
      "metadata": {
        "id": "8IyWRTHNpBoM"
      },
      "execution_count": 25,
      "outputs": []
    },
    {
      "cell_type": "code",
      "source": [
        "# Conver Model to TFLite\n",
        "converter = tf.lite.TFLiteConverter.from_keras_model(model2)\n",
        "tflite_model = converter.convert()\n",
        "\n",
        "with open('corn_model.tflite', 'wb') as f:\n",
        "  f.write(tflite_model)"
      ],
      "metadata": {
        "colab": {
          "base_uri": "https://localhost:8080/"
        },
        "id": "ThCMT_OBpa1r",
        "outputId": "163d2acf-2153-4193-c571-6d7a60694175"
      },
      "execution_count": 26,
      "outputs": [
        {
          "output_type": "stream",
          "name": "stdout",
          "text": [
            "INFO:tensorflow:Assets written to: /tmp/tmpko_2jsef/assets\n"
          ]
        },
        {
          "output_type": "stream",
          "name": "stderr",
          "text": [
            "WARNING:absl:Buffer deduplication procedure will be skipped when flatbuffer library is not properly loaded\n"
          ]
        }
      ]
    },
    {
      "cell_type": "code",
      "source": [
        "scores = model.evaluate(x_train, y_train)\n",
        "print(f\"Test Accuracy: {scores[1]*100}\")"
      ],
      "metadata": {
        "colab": {
          "base_uri": "https://localhost:8080/"
        },
        "id": "LfcviV8Kn4Sy",
        "outputId": "a477fd99-c9c9-4667-d501-e01886b964b7"
      },
      "execution_count": 27,
      "outputs": [
        {
          "output_type": "stream",
          "name": "stdout",
          "text": [
            "25/25 [==============================] - 0s 8ms/step - loss: 0.0256 - accuracy: 0.9787\n",
            "Test Accuracy: 97.87499904632568\n"
          ]
        }
      ]
    },
    {
      "cell_type": "markdown",
      "source": [
        "# Predict "
      ],
      "metadata": {
        "id": "2K4sLGd6yKAI"
      }
    },
    {
      "cell_type": "code",
      "source": [
        "import keras\n",
        "import cv2\n",
        "import matplotlib.pyplot as plt"
      ],
      "metadata": {
        "id": "iiqYDDLAx5fH"
      },
      "execution_count": 31,
      "outputs": []
    },
    {
      "cell_type": "code",
      "source": [
        "import numpy as np\n",
        "CATEGORIES = ['Gray_Leaf_Spot', 'Common_Rust', 'Northern_Leaf_Blight', 'Healthy']\n",
        "\n",
        "def image(path):\n",
        "    img = cv2.imread(path)\n",
        "    new_arr = cv2.resize(img,(100, 100))\n",
        "    new_arr = np.array(new_arr/255)\n",
        "    new_arr = new_arr.reshape(-1, 100, 100, 3)\n",
        "    return new_arr\n",
        "\n",
        "model = keras.models.load_model('/content/corn_disease_model.h5')"
      ],
      "metadata": {
        "id": "RewOAKJryNkh"
      },
      "execution_count": 32,
      "outputs": []
    },
    {
      "cell_type": "code",
      "source": [
        "prediction = model.predict(image('/content/Northern Leaf Blight (1).jpg'))\n",
        "\n",
        "print(CATEGORIES[prediction.argmax()])"
      ],
      "metadata": {
        "colab": {
          "base_uri": "https://localhost:8080/"
        },
        "id": "FmwdBxBlylDS",
        "outputId": "a911caa6-d35c-46fb-cc14-6a703c99b39f"
      },
      "execution_count": 33,
      "outputs": [
        {
          "output_type": "stream",
          "name": "stdout",
          "text": [
            "Northern_Leaf_Blight\n"
          ]
        }
      ]
    },
    {
      "cell_type": "code",
      "source": [
        ""
      ],
      "metadata": {
        "id": "OyYUYEaQ706d"
      },
      "execution_count": null,
      "outputs": []
    }
  ]
}